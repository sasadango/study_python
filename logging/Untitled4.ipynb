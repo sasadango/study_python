{
 "cells": [
  {
   "cell_type": "code",
   "execution_count": 1,
   "metadata": {},
   "outputs": [],
   "source": [
    "import logging"
   ]
  },
  {
   "cell_type": "code",
   "execution_count": 2,
   "metadata": {},
   "outputs": [
    {
     "name": "stderr",
     "output_type": "stream",
     "text": [
      "/home/ubuntu/.pyenv/versions/anaconda3-5.1.0/lib/python3.6/site-packages/ipykernel_launcher.py:4: DeprecationWarning: The 'warn' method is deprecated, use 'warning' instead\n",
      "  after removing the cwd from sys.path.\n",
      "WARNING:LoggingSample:thie is sample message\n"
     ]
    }
   ],
   "source": [
    "class LoggingSample(object):\n",
    "    def __init__(self):\n",
    "        self.logger = logging.getLogger(type(self).__name__)\n",
    "        self.logger.warn('thie is sample message')\n",
    "        \n",
    "if __name__ == '__main__':\n",
    "    logging.basicConfig()\n",
    "    LoggingSample()"
   ]
  },
  {
   "cell_type": "code",
   "execution_count": null,
   "metadata": {},
   "outputs": [],
   "source": []
  }
 ],
 "metadata": {
  "kernelspec": {
   "display_name": "Python 3",
   "language": "python",
   "name": "python3"
  },
  "language_info": {
   "codemirror_mode": {
    "name": "ipython",
    "version": 3
   },
   "file_extension": ".py",
   "mimetype": "text/x-python",
   "name": "python",
   "nbconvert_exporter": "python",
   "pygments_lexer": "ipython3",
   "version": "3.6.4"
  }
 },
 "nbformat": 4,
 "nbformat_minor": 2
}
