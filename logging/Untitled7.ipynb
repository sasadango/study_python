{
 "cells": [
  {
   "cell_type": "code",
   "execution_count": 1,
   "metadata": {},
   "outputs": [],
   "source": [
    "import logging\n",
    "from logging import FileHandler, Formatter"
   ]
  },
  {
   "cell_type": "code",
   "execution_count": 2,
   "metadata": {},
   "outputs": [
    {
     "name": "stderr",
     "output_type": "stream",
     "text": [
      "DEBUG:__main__:this is debug message\n",
      "INFO:__main__:this is info message\n",
      "WARNING:__main__:this is warning massege\n",
      "ERROR:__main__:this is error message\n",
      "CRITICAL:__main__:this is critical message\n"
     ]
    }
   ],
   "source": [
    "if __name__ == '__main__':\n",
    "    logging.basicConfig(level=logging.DEBUG)\n",
    "    logger = logging.getLogger(__name__)\n",
    "    \n",
    "    formatter = Formatter(fmt='%(asctime)s %(message)s',\n",
    "                          datefmt='%Y/%m/%d %p %I:%M:%S',)\n",
    "    \n",
    "    file_handler = FileHandler('log.log', 'a+')\n",
    "    file_handler.level = logging.INFO\n",
    "    file_handler.formatter = formatter\n",
    "    logger.addHandler(file_handler)\n",
    "    \n",
    "    logger.debug('this is debug message')\n",
    "    logger.info('this is info message')\n",
    "    logger.warning('this is warning massege')\n",
    "    logger.error('this is error message')\n",
    "    logger.critical('this is critical message')"
   ]
  },
  {
   "cell_type": "code",
   "execution_count": null,
   "metadata": {},
   "outputs": [],
   "source": []
  }
 ],
 "metadata": {
  "kernelspec": {
   "display_name": "Python 3",
   "language": "python",
   "name": "python3"
  },
  "language_info": {
   "codemirror_mode": {
    "name": "ipython",
    "version": 3
   },
   "file_extension": ".py",
   "mimetype": "text/x-python",
   "name": "python",
   "nbconvert_exporter": "python",
   "pygments_lexer": "ipython3",
   "version": "3.6.4"
  }
 },
 "nbformat": 4,
 "nbformat_minor": 2
}
