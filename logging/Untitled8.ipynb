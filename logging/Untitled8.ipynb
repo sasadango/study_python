{
 "cells": [
  {
   "cell_type": "code",
   "execution_count": 1,
   "metadata": {},
   "outputs": [],
   "source": [
    "import logging\n",
    "import logging.config"
   ]
  },
  {
   "cell_type": "code",
   "execution_count": 2,
   "metadata": {},
   "outputs": [
    {
     "name": "stdout",
     "output_type": "stream",
     "text": [
      "2018-09-25 14:26:44,867 - MainThread - __main__ - DEBUG - this is debug message\n",
      "2018-09-25 14:26:44,868 - MainThread - __main__ - INFO - this is info message\n",
      "2018-09-25 14:26:44,869 - MainThread - __main__ - WARNING - this is warning message\n",
      "2018-09-25 14:26:44,869 - MainThread - __main__ - ERROR - this is error message\n",
      "2018-09-25 14:26:44,870 - MainThread - __main__ - CRITICAL - this is critical message\n"
     ]
    }
   ],
   "source": [
    "if __name__ == '__main__':\n",
    "    logging.config.fileConfig('config.ini')\n",
    "    logger = logging.getLogger(__name__)\n",
    "    \n",
    "    logger.debug('this is debug message')\n",
    "    logger.info('this is info message')\n",
    "    logger.warning('this is warning message')\n",
    "    logger.error('this is error message')\n",
    "    logger.critical('this is critical message')"
   ]
  },
  {
   "cell_type": "code",
   "execution_count": null,
   "metadata": {},
   "outputs": [],
   "source": []
  }
 ],
 "metadata": {
  "kernelspec": {
   "display_name": "Python 3",
   "language": "python",
   "name": "python3"
  },
  "language_info": {
   "codemirror_mode": {
    "name": "ipython",
    "version": 3
   },
   "file_extension": ".py",
   "mimetype": "text/x-python",
   "name": "python",
   "nbconvert_exporter": "python",
   "pygments_lexer": "ipython3",
   "version": "3.6.4"
  }
 },
 "nbformat": 4,
 "nbformat_minor": 2
}
